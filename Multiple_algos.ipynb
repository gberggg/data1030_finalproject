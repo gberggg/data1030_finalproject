{
 "cells": [
  {
   "cell_type": "code",
   "execution_count": 44,
   "id": "3f4d876e-0e88-49e2-abee-52875db26b3a",
   "metadata": {},
   "outputs": [],
   "source": [
    "import numpy as np\n",
    "import matplotlib.pyplot as plt\n",
    "import pandas as pd\n",
    "import matplotlib\n",
    "\n",
    "\n",
    "from sklearn.preprocessing import PolynomialFeatures\n",
    "from sklearn.impute import SimpleImputer\n",
    "from sklearn.neighbors import KNeighborsRegressor\n",
    "from sklearn.model_selection import train_test_split \n",
    "from sklearn.metrics import mean_squared_error\n",
    "from sklearn.metrics import r2_score\n",
    "from sklearn.linear_model import LinearRegression\n",
    "from sklearn.model_selection import KFold\n",
    "from sklearn.compose import ColumnTransformer\n",
    "from sklearn.pipeline import Pipeline\n",
    "from sklearn.preprocessing import StandardScaler\n",
    "from sklearn.model_selection import ParameterGrid\n",
    "from sklearn.pipeline import make_pipeline\n",
    "from sklearn.model_selection import GridSearchCV\n",
    "from sklearn.linear_model import Lasso\n",
    "from sklearn.linear_model import Ridge\n",
    "from sklearn.linear_model import ElasticNet"
   ]
  },
  {
   "cell_type": "code",
   "execution_count": 45,
   "id": "4569f576-41d5-45eb-81f3-6c67087cf283",
   "metadata": {},
   "outputs": [],
   "source": [
    "def tts_strat_cont(X, y, train_size, val_size, test_size, random_state):\n",
    "    \n",
    "    # Stratify based on y using pd.qcut\n",
    "    y_bin = pd.qcut(y, q=5)\n",
    "\n",
    "    # First split, stratify on y_bin\n",
    "    X_train, X_other, y_train, y_other = train_test_split(\n",
    "        X, y, train_size=train_size, stratify=y_bin, random_state=random_state)\n",
    "\n",
    "    # Scale the validation size to reflect the remaining data\n",
    "    val_size_scaled = val_size / (val_size + test_size)\n",
    "\n",
    "    # Create stratified bins for the second split\n",
    "    y_bin_other = pd.qcut(y_other, q=5)\n",
    "    \n",
    "    # Second split, stratify on y_bin_other\n",
    "    X_val, X_test, y_val, y_test = train_test_split(\n",
    "        X_other, y_other, train_size=val_size_scaled, stratify=y_bin_other, random_state=random_state)\n",
    "\n",
    "    return X_train, y_train, X_val, y_val, X_test, y_test"
   ]
  },
  {
   "cell_type": "code",
   "execution_count": 57,
   "id": "93478dc8-a2b9-47fc-b456-b5b26770704e",
   "metadata": {},
   "outputs": [],
   "source": [
    "best_models = []\n",
    "test_scores = []\n",
    "\n",
    "# function for the ML pipeline\n",
    "def MLpipe_Strat_RMSE(X, y, train_size, val_size, test_size, preprocessor, ML_algo, param_grid, random_states):\n",
    "    \n",
    "        for i in range(random_states):\n",
    "            \n",
    "            try:\n",
    "                # Instantiate the model with random_state if applicable\n",
    "                ML_algo_instance = ML_algo(random_state=i)\n",
    "            except TypeError:\n",
    "                # If random_state is not an argument, use the model as is\n",
    "                ML_algo_instance = ML_algo\n",
    "            \n",
    "            try:\n",
    "                # Set max_iter if it's an argument\n",
    "                ML_algo_instance.set_params(max_iter=1000000)\n",
    "            except (TypeError, ValueError):\n",
    "                # If max_iter is not an argument, just leave it as is\n",
    "                pass\n",
    "    \n",
    "            # call my split function\n",
    "            X_train, y_train, X_val, y_val, X_test, y_test = tts_strat_cont(X, y, train_size, val_size, test_size, random_state=i)\n",
    "    \n",
    "            # preprocess the sets and fit model with inputs\n",
    "            pipe = make_pipeline(preprocessor, ML_algo) \n",
    "            # Exhaustive search over specified parameter values\n",
    "            grid = GridSearchCV(pipe, param_grid=param_grid, scoring='neg_root_mean_squared_error', \n",
    "                                return_train_score=True, n_jobs=-1, cv=[(np.arange(len(X_train)), np.arange(len(X_val)))],\n",
    "                                verbose=True)\n",
    "            grid.fit(X_train, y_train)\n",
    "\n",
    "            # access results and save them into a data frame\n",
    "            results = pd.DataFrame(grid.cv_results_)\n",
    "            #print(results)\n",
    "            # access best models and save them\n",
    "            best_models.append(grid.best_estimator_)\n",
    "\n",
    "            #print('best model parameters:',grid.best_params_)\n",
    "            #print('validation score:',grid.best_score_) # this is the mean validation score over all iterations\n",
    "            y_test_pred = grid.predict(X_test)\n",
    "            test_scores.append(np.sqrt(mean_squared_error(y_test,y_test_pred)))\n",
    "             #print(\"\")\n",
    "\n",
    "        return test_scores, best_models\n"
   ]
  },
  {
   "cell_type": "code",
   "execution_count": 47,
   "id": "cdff09db-9b57-48d7-b0a1-ebae90fb12ea",
   "metadata": {},
   "outputs": [],
   "source": [
    "df = pd.read_csv(\"processed_data_1/merge.csv\")\n",
    "df = df.drop(df.columns[0], axis=1)\n",
    "\n",
    "# add a random column to test the coefficients\n",
    "df[\"rand\"] = np.random.randint(1, 6, df.shape[0])\n"
   ]
  },
  {
   "cell_type": "code",
   "execution_count": 48,
   "id": "429f1537-2948-4bd5-abbf-943a82547ab5",
   "metadata": {},
   "outputs": [],
   "source": [
    "\n",
    "X = df[['no_wrk_aux','no2_wrk_aux','o3_wrk_aux','temp','rh','t_since_depl','rand']]\n",
    "y = df['no2_ref']\n",
    "\n",
    "train_size = 0.6\n",
    "val_size = 0.2\n",
    "test_size = 0.2\n",
    "\n",
    "# collect which encoder to use on each feature\n",
    "num_cols = X.columns\n",
    "\n",
    "# collect all the encoders into one preprocessor\n",
    "num_pipeline= Pipeline([('imputer', SimpleImputer(strategy='median')),\n",
    "                        ('poly_features', PolynomialFeatures(degree=6, include_bias=False, interaction_only=True)),\n",
    "                        ('scaler', StandardScaler())])\n",
    "\n",
    "preprocessor = ColumnTransformer([(\"num_pipeline\", num_pipeline, num_cols)])\n"
   ]
  },
  {
   "cell_type": "code",
   "execution_count": 49,
   "id": "9a9a56a9-02ca-400d-bec5-a7799d203a9b",
   "metadata": {},
   "outputs": [
    {
     "name": "stdout",
     "output_type": "stream",
     "text": [
      "Fitting 1 folds for each of 5 candidates, totalling 5 fits\n",
      "Fitting 1 folds for each of 5 candidates, totalling 5 fits\n",
      "Fitting 1 folds for each of 5 candidates, totalling 5 fits\n",
      "Fitting 1 folds for each of 5 candidates, totalling 5 fits\n",
      "Fitting 1 folds for each of 5 candidates, totalling 5 fits\n",
      "Mean of test scores: 2.3436088793107968\n",
      "Standard deviation of test scores: 0.03226372346460557\n"
     ]
    }
   ],
   "source": [
    "# RIDGE\n",
    "\n",
    "# hyperparameters to tune\n",
    "param_grid = {\n",
    "    'ridge__alpha': [0, 0.1, 1, 10, 100]} \n",
    "\n",
    "# the model\n",
    "ML_algo = Ridge() \n",
    "\n",
    "# Execute the pipeline\n",
    "test_scores, best_models = MLpipe_Strat_RMSE(\n",
    "    X, y, train_size=0.6, val_size=0.2, test_size=0.2, \n",
    "    preprocessor=preprocessor, ML_algo=ML_algo, param_grid=param_grid, random_states=5\n",
    ")\n",
    "\n",
    "print(\"Mean of test scores:\", np.mean(test_scores))\n",
    "print(\"Standard deviation of test scores:\", np.std(test_scores))"
   ]
  },
  {
   "cell_type": "code",
   "execution_count": 56,
   "id": "e4e513a9-8e17-4859-9d10-d7655c79d0c0",
   "metadata": {},
   "outputs": [
    {
     "name": "stdout",
     "output_type": "stream",
     "text": [
      "Fitting 1 folds for each of 4 candidates, totalling 4 fits\n",
      "Fitting 1 folds for each of 4 candidates, totalling 4 fits\n",
      "Fitting 1 folds for each of 4 candidates, totalling 4 fits\n",
      "Fitting 1 folds for each of 4 candidates, totalling 4 fits\n",
      "Fitting 1 folds for each of 4 candidates, totalling 4 fits\n",
      "Mean of test scores: 3.330250142884149\n",
      "Standard deviation of test scores: 1.6754661985617625\n"
     ]
    }
   ],
   "source": [
    "# LASSO \n",
    "\n",
    "# hyperparameters to tune\n",
    "param_grid = {\n",
    "    'lasso__alpha': [1e-3, 0.1, 1, 10]} \n",
    "\n",
    "# the model\n",
    "ML_algo = Lasso() \n",
    "\n",
    "# Execute the pipeline\n",
    "test_scores, best_models = MLpipe_Strat_RMSE(\n",
    "    X, y, train_size=0.6, val_size=0.2, test_size=0.2, \n",
    "    preprocessor=preprocessor, ML_algo=ML_algo, param_grid=param_grid, random_states=5\n",
    ")\n",
    "\n",
    "print(\"Mean of test scores:\", np.mean(test_scores))\n",
    "print(\"Standard deviation of test scores:\", np.std(test_scores))"
   ]
  },
  {
   "cell_type": "code",
   "execution_count": 59,
   "id": "dcf94b3d-c094-49e8-8415-d385458ae7ea",
   "metadata": {},
   "outputs": [
    {
     "name": "stdout",
     "output_type": "stream",
     "text": [
      "Fitting 1 folds for each of 16 candidates, totalling 16 fits\n"
     ]
    },
    {
     "name": "stderr",
     "output_type": "stream",
     "text": [
      "/opt/anaconda3/envs/data1030/lib/python3.12/site-packages/sklearn/linear_model/_coordinate_descent.py:697: ConvergenceWarning: Objective did not converge. You might want to increase the number of iterations, check the scale of the features or consider increasing regularisation. Duality gap: 3.899e+01, tolerance: 1.869e+01\n",
      "  model = cd_fast.enet_coordinate_descent(\n",
      "/opt/anaconda3/envs/data1030/lib/python3.12/site-packages/sklearn/linear_model/_coordinate_descent.py:697: ConvergenceWarning: Objective did not converge. You might want to increase the number of iterations, check the scale of the features or consider increasing regularisation. Duality gap: 1.373e+02, tolerance: 1.869e+01\n",
      "  model = cd_fast.enet_coordinate_descent(\n",
      "/opt/anaconda3/envs/data1030/lib/python3.12/site-packages/sklearn/linear_model/_coordinate_descent.py:697: ConvergenceWarning: Objective did not converge. You might want to increase the number of iterations, check the scale of the features or consider increasing regularisation. Duality gap: 1.792e+03, tolerance: 1.869e+01\n",
      "  model = cd_fast.enet_coordinate_descent(\n",
      "/opt/anaconda3/envs/data1030/lib/python3.12/site-packages/sklearn/linear_model/_coordinate_descent.py:697: ConvergenceWarning: Objective did not converge. You might want to increase the number of iterations, check the scale of the features or consider increasing regularisation. Duality gap: 1.242e+04, tolerance: 1.869e+01\n",
      "  model = cd_fast.enet_coordinate_descent(\n",
      "/opt/anaconda3/envs/data1030/lib/python3.12/site-packages/sklearn/linear_model/_coordinate_descent.py:697: ConvergenceWarning: Objective did not converge. You might want to increase the number of iterations, check the scale of the features or consider increasing regularisation. Duality gap: 3.899e+01, tolerance: 1.869e+01\n",
      "  model = cd_fast.enet_coordinate_descent(\n"
     ]
    },
    {
     "name": "stdout",
     "output_type": "stream",
     "text": [
      "Fitting 1 folds for each of 16 candidates, totalling 16 fits\n"
     ]
    },
    {
     "name": "stderr",
     "output_type": "stream",
     "text": [
      "/opt/anaconda3/envs/data1030/lib/python3.12/site-packages/sklearn/linear_model/_coordinate_descent.py:697: ConvergenceWarning: Objective did not converge. You might want to increase the number of iterations, check the scale of the features or consider increasing regularisation. Duality gap: 1.629e+02, tolerance: 1.833e+01\n",
      "  model = cd_fast.enet_coordinate_descent(\n",
      "/opt/anaconda3/envs/data1030/lib/python3.12/site-packages/sklearn/linear_model/_coordinate_descent.py:697: ConvergenceWarning: Objective did not converge. You might want to increase the number of iterations, check the scale of the features or consider increasing regularisation. Duality gap: 1.411e+03, tolerance: 1.833e+01\n",
      "  model = cd_fast.enet_coordinate_descent(\n",
      "/opt/anaconda3/envs/data1030/lib/python3.12/site-packages/sklearn/linear_model/_coordinate_descent.py:697: ConvergenceWarning: Objective did not converge. You might want to increase the number of iterations, check the scale of the features or consider increasing regularisation. Duality gap: 1.041e+04, tolerance: 1.833e+01\n",
      "  model = cd_fast.enet_coordinate_descent(\n"
     ]
    },
    {
     "name": "stdout",
     "output_type": "stream",
     "text": [
      "Fitting 1 folds for each of 16 candidates, totalling 16 fits\n"
     ]
    },
    {
     "name": "stderr",
     "output_type": "stream",
     "text": [
      "/opt/anaconda3/envs/data1030/lib/python3.12/site-packages/sklearn/linear_model/_coordinate_descent.py:697: ConvergenceWarning: Objective did not converge. You might want to increase the number of iterations, check the scale of the features or consider increasing regularisation. Duality gap: 5.756e+01, tolerance: 1.825e+01\n",
      "  model = cd_fast.enet_coordinate_descent(\n",
      "/opt/anaconda3/envs/data1030/lib/python3.12/site-packages/sklearn/linear_model/_coordinate_descent.py:697: ConvergenceWarning: Objective did not converge. You might want to increase the number of iterations, check the scale of the features or consider increasing regularisation. Duality gap: 1.680e+02, tolerance: 1.825e+01\n",
      "  model = cd_fast.enet_coordinate_descent(\n",
      "/opt/anaconda3/envs/data1030/lib/python3.12/site-packages/sklearn/linear_model/_coordinate_descent.py:697: ConvergenceWarning: Objective did not converge. You might want to increase the number of iterations, check the scale of the features or consider increasing regularisation. Duality gap: 2.311e+03, tolerance: 1.825e+01\n",
      "  model = cd_fast.enet_coordinate_descent(\n",
      "/opt/anaconda3/envs/data1030/lib/python3.12/site-packages/sklearn/linear_model/_coordinate_descent.py:697: ConvergenceWarning: Objective did not converge. You might want to increase the number of iterations, check the scale of the features or consider increasing regularisation. Duality gap: 1.217e+04, tolerance: 1.825e+01\n",
      "  model = cd_fast.enet_coordinate_descent(\n",
      "/opt/anaconda3/envs/data1030/lib/python3.12/site-packages/sklearn/linear_model/_coordinate_descent.py:697: ConvergenceWarning: Objective did not converge. You might want to increase the number of iterations, check the scale of the features or consider increasing regularisation. Duality gap: 5.756e+01, tolerance: 1.825e+01\n",
      "  model = cd_fast.enet_coordinate_descent(\n"
     ]
    },
    {
     "name": "stdout",
     "output_type": "stream",
     "text": [
      "Fitting 1 folds for each of 16 candidates, totalling 16 fits\n"
     ]
    },
    {
     "name": "stderr",
     "output_type": "stream",
     "text": [
      "/opt/anaconda3/envs/data1030/lib/python3.12/site-packages/sklearn/linear_model/_coordinate_descent.py:697: ConvergenceWarning: Objective did not converge. You might want to increase the number of iterations, check the scale of the features or consider increasing regularisation. Duality gap: 4.161e+01, tolerance: 1.870e+01\n",
      "  model = cd_fast.enet_coordinate_descent(\n",
      "/opt/anaconda3/envs/data1030/lib/python3.12/site-packages/sklearn/linear_model/_coordinate_descent.py:697: ConvergenceWarning: Objective did not converge. You might want to increase the number of iterations, check the scale of the features or consider increasing regularisation. Duality gap: 2.686e+02, tolerance: 1.870e+01\n",
      "  model = cd_fast.enet_coordinate_descent(\n",
      "/opt/anaconda3/envs/data1030/lib/python3.12/site-packages/sklearn/linear_model/_coordinate_descent.py:697: ConvergenceWarning: Objective did not converge. You might want to increase the number of iterations, check the scale of the features or consider increasing regularisation. Duality gap: 2.739e+03, tolerance: 1.870e+01\n",
      "  model = cd_fast.enet_coordinate_descent(\n",
      "/opt/anaconda3/envs/data1030/lib/python3.12/site-packages/sklearn/linear_model/_coordinate_descent.py:697: ConvergenceWarning: Objective did not converge. You might want to increase the number of iterations, check the scale of the features or consider increasing regularisation. Duality gap: 1.275e+04, tolerance: 1.870e+01\n",
      "  model = cd_fast.enet_coordinate_descent(\n",
      "/opt/anaconda3/envs/data1030/lib/python3.12/site-packages/sklearn/linear_model/_coordinate_descent.py:697: ConvergenceWarning: Objective did not converge. You might want to increase the number of iterations, check the scale of the features or consider increasing regularisation. Duality gap: 4.161e+01, tolerance: 1.870e+01\n",
      "  model = cd_fast.enet_coordinate_descent(\n"
     ]
    },
    {
     "name": "stdout",
     "output_type": "stream",
     "text": [
      "Fitting 1 folds for each of 16 candidates, totalling 16 fits\n"
     ]
    },
    {
     "name": "stderr",
     "output_type": "stream",
     "text": [
      "/opt/anaconda3/envs/data1030/lib/python3.12/site-packages/sklearn/linear_model/_coordinate_descent.py:697: ConvergenceWarning: Objective did not converge. You might want to increase the number of iterations, check the scale of the features or consider increasing regularisation. Duality gap: 2.293e+02, tolerance: 1.819e+01\n",
      "  model = cd_fast.enet_coordinate_descent(\n",
      "/opt/anaconda3/envs/data1030/lib/python3.12/site-packages/sklearn/linear_model/_coordinate_descent.py:697: ConvergenceWarning: Objective did not converge. You might want to increase the number of iterations, check the scale of the features or consider increasing regularisation. Duality gap: 1.925e+03, tolerance: 1.819e+01\n",
      "  model = cd_fast.enet_coordinate_descent(\n",
      "/opt/anaconda3/envs/data1030/lib/python3.12/site-packages/sklearn/linear_model/_coordinate_descent.py:697: ConvergenceWarning: Objective did not converge. You might want to increase the number of iterations, check the scale of the features or consider increasing regularisation. Duality gap: 1.248e+04, tolerance: 1.819e+01\n",
      "  model = cd_fast.enet_coordinate_descent(\n"
     ]
    },
    {
     "name": "stdout",
     "output_type": "stream",
     "text": [
      "Mean of test scores: 2.4286267305081197\n",
      "Standard deviation of test scores: 0.04934180076781664\n"
     ]
    }
   ],
   "source": [
    "# Elastic Net \n",
    "\n",
    "# hyperparameters to tune\n",
    "param_grid = {\n",
    "    'elasticnet__alpha': [1e-3, 0.1, 1, 10], \n",
    "    'elasticnet__l1_ratio': [0.01, 0.1, 0.5, 0.99]}\n",
    "\n",
    "# the model\n",
    "ML_algo = ElasticNet() \n",
    "\n",
    "# Execute the pipeline\n",
    "test_scores, best_models = MLpipe_Strat_RMSE(\n",
    "    X, y, train_size=0.6, val_size=0.2, test_size=0.2, \n",
    "    preprocessor=preprocessor, ML_algo=ML_algo, param_grid=param_grid, random_states=5\n",
    ")\n",
    "\n",
    "print(\"Mean of test scores:\", np.mean(test_scores))\n",
    "print(\"Standard deviation of test scores:\", np.std(test_scores))"
   ]
  },
  {
   "cell_type": "code",
   "execution_count": 54,
   "id": "14e035ad-41c9-456d-9a14-90085c645832",
   "metadata": {},
   "outputs": [
    {
     "name": "stdout",
     "output_type": "stream",
     "text": [
      "Fitting 1 folds for each of 20 candidates, totalling 20 fits\n",
      "Fitting 1 folds for each of 20 candidates, totalling 20 fits\n",
      "Fitting 1 folds for each of 20 candidates, totalling 20 fits\n",
      "Fitting 1 folds for each of 20 candidates, totalling 20 fits\n",
      "Fitting 1 folds for each of 20 candidates, totalling 20 fits\n",
      "Mean of test scores: 3.7004544459545285\n",
      "Standard deviation of test scores: 1.8571062177088626\n"
     ]
    }
   ],
   "source": [
    "# RANDOM FOREST\n",
    "\n",
    "from sklearn.ensemble import RandomForestRegressor\n",
    "\n",
    "# parameter grid\n",
    "param_grid = {\n",
    "    'randomforestregressor__n_estimators': [1, 3, 10, 30],\n",
    "    'randomforestregressor__max_depth': [1, 2, 3, 10, 30]} \n",
    "\n",
    "# model\n",
    "ML_algo = RandomForestRegressor()\n",
    "\n",
    "# Execute the pipeline\n",
    "test_scores, best_models = MLpipe_Strat_RMSE(\n",
    "    X, y, train_size=0.6, val_size=0.2, test_size=0.2, \n",
    "    preprocessor=preprocessor, ML_algo=ML_algo, param_grid=param_grid, random_states=5\n",
    ")\n",
    "\n",
    "print(\"Mean of test scores:\", np.mean(test_scores))\n",
    "print(\"Standard deviation of test scores:\", np.std(test_scores))"
   ]
  },
  {
   "cell_type": "code",
   "execution_count": 53,
   "id": "1bedbdd6-76bb-4007-b1a9-8177feb663eb",
   "metadata": {},
   "outputs": [
    {
     "name": "stdout",
     "output_type": "stream",
     "text": [
      "Fitting 1 folds for each of 25 candidates, totalling 25 fits\n",
      "Fitting 1 folds for each of 25 candidates, totalling 25 fits\n",
      "Fitting 1 folds for each of 25 candidates, totalling 25 fits\n",
      "Fitting 1 folds for each of 25 candidates, totalling 25 fits\n",
      "Fitting 1 folds for each of 25 candidates, totalling 25 fits\n",
      "Mean of test scores: 4.719684132779699\n",
      "Standard deviation of test scores: 1.432976861294911\n"
     ]
    }
   ],
   "source": [
    "# SUPPORT VECTOR MACHINE\n",
    "\n",
    "# ADD KERNEL AS A HYPERPARAMETER\n",
    "\n",
    "from sklearn.svm import SVR\n",
    "\n",
    "# parameter grid\n",
    "param_grid = {\n",
    "    'svr__gamma': [1e-3, 1e-1, 1e1, 1e3, 1e5],\n",
    "    'svr__C': [1e-2, 1e-1, 1e0, 1e1, 1e2]} \n",
    "\n",
    "# model\n",
    "ML_algo = SVR() # no random state\n",
    "\n",
    "# Execute the pipeline\n",
    "test_scores, best_models = MLpipe_Strat_RMSE(\n",
    "    X, y, train_size=0.6, val_size=0.2, test_size=0.2, \n",
    "    preprocessor=preprocessor, ML_algo=ML_algo, param_grid=param_grid, random_states=5\n",
    ")\n",
    "print(\"Mean of test scores:\", np.mean(test_scores))\n",
    "print(\"Standard deviation of test scores:\", np.std(test_scores))"
   ]
  },
  {
   "cell_type": "code",
   "execution_count": 52,
   "id": "b2b8196c-e511-47a0-87f5-ef8125540a18",
   "metadata": {},
   "outputs": [
    {
     "name": "stdout",
     "output_type": "stream",
     "text": [
      "Fitting 1 folds for each of 8 candidates, totalling 8 fits\n",
      "Fitting 1 folds for each of 8 candidates, totalling 8 fits\n",
      "Fitting 1 folds for each of 8 candidates, totalling 8 fits\n",
      "Fitting 1 folds for each of 8 candidates, totalling 8 fits\n",
      "Fitting 1 folds for each of 8 candidates, totalling 8 fits\n",
      "Mean of test scores: 3.2886321978432127\n",
      "Standard deviation of test scores: 0.09499530125248835\n"
     ]
    }
   ],
   "source": [
    "# NEAREST NEIGHBOR\n",
    "from sklearn.neighbors import KNeighborsRegressor\n",
    "\n",
    "# parameter grid\n",
    "param_grid = {\n",
    "    'kneighborsregressor__n_neighbors': [1, 3, 10, 30],\n",
    "    'kneighborsregressor__weights': [\"distance\", \"uniform\"]} \n",
    "\n",
    "# model\n",
    "ML_algo = KNeighborsRegressor() # no random state\n",
    "\n",
    "# Execute the pipeline\n",
    "test_scores, best_models = MLpipe_Strat_RMSE(\n",
    "    X, y, train_size=0.6, val_size=0.2, test_size=0.2, \n",
    "    preprocessor=preprocessor, ML_algo=ML_algo, param_grid=param_grid, random_states=5\n",
    ")\n",
    "print(\"Mean of test scores:\", np.mean(test_scores))\n",
    "print(\"Standard deviation of test scores:\", np.std(test_scores))"
   ]
  }
 ],
 "metadata": {
  "kernelspec": {
   "display_name": "Python 3 (ipykernel)",
   "language": "python",
   "name": "python3"
  },
  "language_info": {
   "codemirror_mode": {
    "name": "ipython",
    "version": 3
   },
   "file_extension": ".py",
   "mimetype": "text/x-python",
   "name": "python",
   "nbconvert_exporter": "python",
   "pygments_lexer": "ipython3",
   "version": "3.12.5"
  }
 },
 "nbformat": 4,
 "nbformat_minor": 5
}
