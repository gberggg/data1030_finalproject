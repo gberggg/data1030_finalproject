{
 "cells": [
  {
   "cell_type": "code",
   "execution_count": 3,
   "id": "4f15180a-9614-44dd-8ed3-daac53dd24d3",
   "metadata": {},
   "outputs": [],
   "source": [
    "import numpy as np\n",
    "import pandas as pd\n",
    "import matplotlib.pyplot as plt\n",
    "from scipy.interpolate import interp1d, CubicSpline"
   ]
  },
  {
   "cell_type": "code",
   "execution_count": 40,
   "id": "228c3c0f-2ed4-45fc-b379-58b5418fe9a0",
   "metadata": {},
   "outputs": [],
   "source": [
    "df = pd.read_csv(\"processed_data_1/merge.csv\")\n",
    "df = df.drop(df.columns[0], axis=1)"
   ]
  },
  {
   "cell_type": "code",
   "execution_count": 41,
   "id": "f73b6262-5504-49f4-b5b2-2cd843fd1409",
   "metadata": {},
   "outputs": [
    {
     "name": "stdout",
     "output_type": "stream",
     "text": [
      "Percentage of missing data per column:\n",
      "date            0.000000\n",
      "node_id         1.673998\n",
      "sensor_name     1.673998\n",
      "no_wrk_aux      1.673998\n",
      "no2_wrk_aux     1.673998\n",
      "o3_wrk_aux      1.673998\n",
      "temp            1.673998\n",
      "rh              1.673998\n",
      "no2_ref         0.000000\n",
      "t_since_depl    0.000000\n",
      "dtype: float64\n"
     ]
    }
   ],
   "source": [
    "# Calculate percentage of missing data for each column\n",
    "missing_percent = df.isna().mean() * 100\n",
    "\n",
    "# Print the result\n",
    "print(\"Percentage of missing data per column:\")\n",
    "print(missing_percent)\n"
   ]
  },
  {
   "cell_type": "code",
   "execution_count": 42,
   "id": "5d98a464-a046-42f6-ae35-006c3f8c317b",
   "metadata": {},
   "outputs": [],
   "source": [
    "df_linear = df.copy()\n",
    "df_second = df.copy()\n",
    "df_spline = df.copy()"
   ]
  },
  {
   "cell_type": "code",
   "execution_count": 47,
   "id": "3c40f420-f891-421f-b8c7-4650f40f4f36",
   "metadata": {},
   "outputs": [
    {
     "name": "stdout",
     "output_type": "stream",
     "text": [
      "Percentage of missing data per column:\n",
      "date            0.000000\n",
      "node_id         1.673998\n",
      "sensor_name     1.673998\n",
      "no_wrk_aux      0.000000\n",
      "no2_wrk_aux     0.000000\n",
      "o3_wrk_aux      0.000000\n",
      "temp            0.000000\n",
      "rh              0.000000\n",
      "no2_ref         0.000000\n",
      "t_since_depl    0.000000\n",
      "dtype: float64\n",
      "Mean no2_wrk_aux:\n",
      "0.015905219939710162\n"
     ]
    }
   ],
   "source": [
    "# First order interpolation\n",
    "\n",
    "columns_to_interpolate = ['no_wrk_aux', 'no2_wrk_aux', 'o3_wrk_aux', 'temp', 'rh']\n",
    "\n",
    "df_linear[columns_to_interpolate] = df_linear[columns_to_interpolate].interpolate(method='linear', axis=0)\n",
    "\n",
    "# Calculate percentage of missing data for each column\n",
    "missing_percent = df_linear.isna().mean() * 100\n",
    "\n",
    "print(\"Percentage of missing data per column:\")\n",
    "print(missing_percent)\n",
    "print(\"Mean no2_wrk_aux:\")\n",
    "print(np.mean(df_linear[\"no2_wrk_aux\"]))\n"
   ]
  },
  {
   "cell_type": "code",
   "execution_count": 48,
   "id": "47765be5-b51a-4bc9-941b-c680e34caea7",
   "metadata": {},
   "outputs": [
    {
     "name": "stdout",
     "output_type": "stream",
     "text": [
      "Percentage of missing data per column:\n",
      "date            0.000000\n",
      "node_id         1.673998\n",
      "sensor_name     1.673998\n",
      "no_wrk_aux      0.000000\n",
      "no2_wrk_aux     0.000000\n",
      "o3_wrk_aux      0.000000\n",
      "temp            0.000000\n",
      "rh              0.000000\n",
      "no2_ref         0.000000\n",
      "t_since_depl    0.000000\n",
      "dtype: float64\n",
      "Mean no2_wrk_aux:\n",
      "0.0158877537963075\n"
     ]
    }
   ],
   "source": [
    "# Second order interpolation\n",
    "\n",
    "columns_to_interpolate = ['no_wrk_aux', 'no2_wrk_aux', 'o3_wrk_aux', 'temp', 'rh']\n",
    "\n",
    "df_second[columns_to_interpolate] = df_second[columns_to_interpolate].interpolate(method='polynomial',order=2, axis=0)\n",
    "\n",
    "# Calculate percentage of missing data for each column\n",
    "missing_percent = df_second.isna().mean() * 100\n",
    "\n",
    "print(\"Percentage of missing data per column:\")\n",
    "print(missing_percent)\n",
    "print(\"Mean no2_wrk_aux:\")\n",
    "print(np.mean(df_second[\"no2_wrk_aux\"]))\n"
   ]
  },
  {
   "cell_type": "code",
   "execution_count": 46,
   "id": "400cc357-ee14-4a0b-8370-14f72fcb0322",
   "metadata": {},
   "outputs": [
    {
     "name": "stdout",
     "output_type": "stream",
     "text": [
      "Percentage of missing data per column:\n",
      "date            0.000000\n",
      "node_id         1.673998\n",
      "sensor_name     1.673998\n",
      "no_wrk_aux      0.000000\n",
      "no2_wrk_aux     0.000000\n",
      "o3_wrk_aux      0.000000\n",
      "temp            0.000000\n",
      "rh              0.000000\n",
      "no2_ref         0.000000\n",
      "t_since_depl    0.000000\n",
      "dtype: float64\n",
      "Mean no2_wrk_aux:\n",
      "0.015886713679383303\n"
     ]
    }
   ],
   "source": [
    "# Spline interpolation\n",
    "\n",
    "columns_to_interpolate = ['no_wrk_aux', 'no2_wrk_aux', 'o3_wrk_aux', 'temp', 'rh']\n",
    "\n",
    "df_spline[columns_to_interpolate] = df_spline[columns_to_interpolate].interpolate(method='spline',order=3, axis=0)\n",
    "\n",
    "# Calculate percentage of missing data for each column\n",
    "missing_percent = df_spline.isna().mean() * 100\n",
    "\n",
    "print(\"Percentage of missing data per column:\")\n",
    "print(missing_percent)\n",
    "print(\"Mean no2_wrk_aux:\")\n",
    "print(np.mean(df_spline[\"no2_wrk_aux\"]))"
   ]
  }
 ],
 "metadata": {
  "kernelspec": {
   "display_name": "Python 3 (ipykernel)",
   "language": "python",
   "name": "python3"
  },
  "language_info": {
   "codemirror_mode": {
    "name": "ipython",
    "version": 3
   },
   "file_extension": ".py",
   "mimetype": "text/x-python",
   "name": "python",
   "nbconvert_exporter": "python",
   "pygments_lexer": "ipython3",
   "version": "3.12.5"
  }
 },
 "nbformat": 4,
 "nbformat_minor": 5
}
