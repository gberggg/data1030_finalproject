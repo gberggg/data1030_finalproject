{
 "cells": [
  {
   "cell_type": "code",
   "execution_count": 44,
   "id": "3f4d876e-0e88-49e2-abee-52875db26b3a",
   "metadata": {},
   "outputs": [],
   "source": [
    "import numpy as np\n",
    "import matplotlib.pyplot as plt\n",
    "import pandas as pd\n",
    "import matplotlib\n",
    "\n",
    "\n",
    "from sklearn.preprocessing import PolynomialFeatures\n",
    "from sklearn.impute import SimpleImputer\n",
    "from sklearn.neighbors import KNeighborsRegressor\n",
    "from sklearn.model_selection import train_test_split \n",
    "from sklearn.metrics import mean_squared_error\n",
    "from sklearn.metrics import r2_score\n",
    "from sklearn.linear_model import LinearRegression\n",
    "from sklearn.model_selection import KFold\n",
    "from sklearn.compose import ColumnTransformer\n",
    "from sklearn.pipeline import Pipeline\n",
    "from sklearn.preprocessing import StandardScaler\n",
    "from sklearn.model_selection import ParameterGrid\n",
    "from sklearn.pipeline import make_pipeline\n",
    "from sklearn.model_selection import GridSearchCV\n",
    "from sklearn.linear_model import Lasso\n",
    "from sklearn.linear_model import Ridge\n",
    "from sklearn.linear_model import ElasticNet"
   ]
  },
  {
   "cell_type": "code",
   "execution_count": 45,
   "id": "4569f576-41d5-45eb-81f3-6c67087cf283",
   "metadata": {},
   "outputs": [],
   "source": [
    "def tts_strat_cont(X, y, train_size, val_size, test_size, random_state):\n",
    "    \n",
    "    # Stratify based on y using pd.qcut\n",
    "    y_bin = pd.qcut(y, q=5)\n",
    "\n",
    "    # First split, stratify on y_bin\n",
    "    X_train, X_other, y_train, y_other = train_test_split(\n",
    "        X, y, train_size=train_size, stratify=y_bin, random_state=random_state)\n",
    "\n",
    "    # Scale the validation size to reflect the remaining data\n",
    "    val_size_scaled = val_size / (val_size + test_size)\n",
    "\n",
    "    # Create stratified bins for the second split\n",
    "    y_bin_other = pd.qcut(y_other, q=5)\n",
    "    \n",
    "    # Second split, stratify on y_bin_other\n",
    "    X_val, X_test, y_val, y_test = train_test_split(\n",
    "        X_other, y_other, train_size=val_size_scaled, stratify=y_bin_other, random_state=random_state)\n",
    "\n",
    "    return X_train, y_train, X_val, y_val, X_test, y_test"
   ]
  },
  {
   "cell_type": "code",
   "execution_count": 57,
   "id": "93478dc8-a2b9-47fc-b456-b5b26770704e",
   "metadata": {},
   "outputs": [],
   "source": [
    "best_models = []\n",
    "test_scores = []\n",
    "\n",
    "# function for the ML pipeline\n",
    "def MLpipe_Strat_RMSE(X, y, train_size, val_size, test_size, preprocessor, ML_algo, param_grid, random_states):\n",
    "    \n",
    "        for i in range(random_states):\n",
    "            \n",
    "            try:\n",
    "                # Instantiate the model with random_state if applicable\n",
    "                ML_algo_instance = ML_algo(random_state=i)\n",
    "            except TypeError:\n",
    "                # If random_state is not an argument, use the model as is\n",
    "                ML_algo_instance = ML_algo\n",
    "            \n",
    "            try:\n",
    "                # Set max_iter if it's an argument\n",
    "                ML_algo_instance.set_params(max_iter=1000000)\n",
    "            except (TypeError, ValueError):\n",
    "                # If max_iter is not an argument, just leave it as is\n",
    "                pass\n",
    "    \n",
    "            # call my split function\n",
    "            X_train, y_train, X_val, y_val, X_test, y_test = tts_strat_cont(X, y, train_size, val_size, test_size, random_state=i)\n",
    "    \n",
    "            # preprocess the sets and fit model with inputs\n",
    "            pipe = make_pipeline(preprocessor, ML_algo) \n",
    "            # Exhaustive search over specified parameter values\n",
    "            grid = GridSearchCV(pipe, param_grid=param_grid, scoring='neg_root_mean_squared_error', \n",
    "                                return_train_score=True, n_jobs=-1, cv=[(np.arange(len(X_train)), np.arange(len(X_val)))],\n",
    "                                verbose=True)\n",
    "            grid.fit(X_train, y_train)\n",
    "\n",
    "            # access results and save them into a data frame\n",
    "            results = pd.DataFrame(grid.cv_results_)\n",
    "            #print(results)\n",
    "            # access best models and save them\n",
    "            best_models.append(grid.best_estimator_)\n",
    "\n",
    "            #print('best model parameters:',grid.best_params_)\n",
    "            #print('validation score:',grid.best_score_) # this is the mean validation score over all iterations\n",
    "            y_test_pred = grid.predict(X_test)\n",
    "            test_scores.append(np.sqrt(mean_squared_error(y_test,y_test_pred)))\n",
    "             #print(\"\")\n",
    "\n",
    "        return test_scores, best_models\n"
   ]
  },
  {
   "cell_type": "code",
   "execution_count": 47,
   "id": "cdff09db-9b57-48d7-b0a1-ebae90fb12ea",
   "metadata": {},
   "outputs": [],
   "source": [
    "df = pd.read_csv(\"processed_data_1/merge.csv\")\n",
    "df = df.drop(df.columns[0], axis=1)\n",
    "\n",
    "# add a random column to test the coefficients\n",
    "df[\"rand\"] = np.random.randint(1, 6, df.shape[0])\n"
   ]
  },
  {
   "cell_type": "code",
   "execution_count": 48,
   "id": "429f1537-2948-4bd5-abbf-943a82547ab5",
   "metadata": {},
   "outputs": [],
   "source": [
    "\n",
    "X = df[['no_wrk_aux','no2_wrk_aux','o3_wrk_aux','temp','rh','t_since_depl','rand']]\n",
    "y = df['no2_ref']\n",
    "\n",
    "train_size = 0.6\n",
    "val_size = 0.2\n",
    "test_size = 0.2\n",
    "\n",
    "# collect which encoder to use on each feature\n",
    "num_cols = X.columns\n",
    "\n",
    "# collect all the encoders into one preprocessor\n",
    "num_pipeline= Pipeline([('imputer', SimpleImputer(strategy='median')),\n",
    "                        ('poly_features', PolynomialFeatures(degree=6, include_bias=False, interaction_only=True)),\n",
    "                        ('scaler', StandardScaler())])\n",
    "\n",
    "preprocessor = ColumnTransformer([(\"num_pipeline\", num_pipeline, num_cols)])\n"
   ]
  },
  {
   "cell_type": "code",
   "execution_count": 49,
   "id": "9a9a56a9-02ca-400d-bec5-a7799d203a9b",
   "metadata": {},
   "outputs": [
    {
     "name": "stdout",
     "output_type": "stream",
     "text": [
      "Fitting 1 folds for each of 5 candidates, totalling 5 fits\n",
      "Fitting 1 folds for each of 5 candidates, totalling 5 fits\n",
      "Fitting 1 folds for each of 5 candidates, totalling 5 fits\n",
      "Fitting 1 folds for each of 5 candidates, totalling 5 fits\n",
      "Fitting 1 folds for each of 5 candidates, totalling 5 fits\n",
      "Mean of test scores: 2.3436088793107968\n",
      "Standard deviation of test scores: 0.03226372346460557\n"
     ]
    }
   ],
   "source": [
    "# RIDGE\n",
    "\n",
    "# hyperparameters to tune\n",
    "param_grid = {\n",
    "    'ridge__alpha': [0, 0.1, 1, 10, 100]} \n",
    "\n",
    "# the model\n",
    "ML_algo = Ridge() \n",
    "\n",
    "# Execute the pipeline\n",
    "test_scores, best_models = MLpipe_Strat_RMSE(\n",
    "    X, y, train_size=0.6, val_size=0.2, test_size=0.2, \n",
    "    preprocessor=preprocessor, ML_algo=ML_algo, param_grid=param_grid, random_states=5\n",
    ")\n",
    "\n",
    "print(\"Mean of test scores:\", np.mean(test_scores))\n",
    "print(\"Standard deviation of test scores:\", np.std(test_scores))"
   ]
  },
  {
   "cell_type": "code",
   "execution_count": 56,
   "id": "e4e513a9-8e17-4859-9d10-d7655c79d0c0",
   "metadata": {},
   "outputs": [
    {
     "name": "stdout",
     "output_type": "stream",
     "text": [
      "Fitting 1 folds for each of 4 candidates, totalling 4 fits\n",
      "Fitting 1 folds for each of 4 candidates, totalling 4 fits\n",
      "Fitting 1 folds for each of 4 candidates, totalling 4 fits\n",
      "Fitting 1 folds for each of 4 candidates, totalling 4 fits\n",
      "Fitting 1 folds for each of 4 candidates, totalling 4 fits\n",
      "Mean of test scores: 3.330250142884149\n",
      "Standard deviation of test scores: 1.6754661985617625\n"
     ]
    }
   ],
   "source": [
    "# LASSO \n",
    "\n",
    "# hyperparameters to tune\n",
    "param_grid = {\n",
    "    'lasso__alpha': [1e-3, 0.1, 1, 10]} \n",
    "\n",
    "# the model\n",
    "ML_algo = Lasso() \n",
    "\n",
    "# Execute the pipeline\n",
    "test_scores, best_models = MLpipe_Strat_RMSE(\n",
    "    X, y, train_size=0.6, val_size=0.2, test_size=0.2, \n",
    "    preprocessor=preprocessor, ML_algo=ML_algo, param_grid=param_grid, random_states=5\n",
    ")\n",
    "\n",
    "print(\"Mean of test scores:\", np.mean(test_scores))\n",
    "print(\"Standard deviation of test scores:\", np.std(test_scores))"
   ]
  },
  {
   "cell_type": "code",
   "execution_count": 58,
   "id": "dcf94b3d-c094-49e8-8415-d385458ae7ea",
   "metadata": {},
   "outputs": [
    {
     "name": "stdout",
     "output_type": "stream",
     "text": [
      "Fitting 1 folds for each of 16 candidates, totalling 16 fits\n"
     ]
    },
    {
     "name": "stderr",
     "output_type": "stream",
     "text": [
      "/opt/anaconda3/envs/data1030/lib/python3.12/site-packages/sklearn/linear_model/_coordinate_descent.py:697: ConvergenceWarning: Objective did not converge. You might want to increase the number of iterations, check the scale of the features or consider increasing regularisation. Duality gap: 3.899e+01, tolerance: 1.869e+01\n",
      "  model = cd_fast.enet_coordinate_descent(\n",
      "/opt/anaconda3/envs/data1030/lib/python3.12/site-packages/sklearn/linear_model/_coordinate_descent.py:697: ConvergenceWarning: Objective did not converge. You might want to increase the number of iterations, check the scale of the features or consider increasing regularisation. Duality gap: 1.373e+02, tolerance: 1.869e+01\n",
      "  model = cd_fast.enet_coordinate_descent(\n",
      "/opt/anaconda3/envs/data1030/lib/python3.12/site-packages/sklearn/linear_model/_coordinate_descent.py:697: ConvergenceWarning: Objective did not converge. You might want to increase the number of iterations, check the scale of the features or consider increasing regularisation. Duality gap: 1.792e+03, tolerance: 1.869e+01\n",
      "  model = cd_fast.enet_coordinate_descent(\n",
      "/opt/anaconda3/envs/data1030/lib/python3.12/site-packages/sklearn/linear_model/_coordinate_descent.py:697: ConvergenceWarning: Objective did not converge. You might want to increase the number of iterations, check the scale of the features or consider increasing regularisation. Duality gap: 1.242e+04, tolerance: 1.869e+01\n",
      "  model = cd_fast.enet_coordinate_descent(\n",
      "/opt/anaconda3/envs/data1030/lib/python3.12/site-packages/sklearn/linear_model/_coordinate_descent.py:697: ConvergenceWarning: Objective did not converge. You might want to increase the number of iterations, check the scale of the features or consider increasing regularisation. Duality gap: 3.899e+01, tolerance: 1.869e+01\n",
      "  model = cd_fast.enet_coordinate_descent(\n"
     ]
    },
    {
     "name": "stdout",
     "output_type": "stream",
     "text": [
      "Fitting 1 folds for each of 16 candidates, totalling 16 fits\n"
     ]
    },
    {
     "name": "stderr",
     "output_type": "stream",
     "text": [
      "/opt/anaconda3/envs/data1030/lib/python3.12/site-packages/sklearn/linear_model/_coordinate_descent.py:697: ConvergenceWarning: Objective did not converge. You might want to increase the number of iterations, check the scale of the features or consider increasing regularisation. Duality gap: 1.629e+02, tolerance: 1.833e+01\n",
      "  model = cd_fast.enet_coordinate_descent(\n",
      "/opt/anaconda3/envs/data1030/lib/python3.12/site-packages/sklearn/linear_model/_coordinate_descent.py:697: ConvergenceWarning: Objective did not converge. You might want to increase the number of iterations, check the scale of the features or consider increasing regularisation. Duality gap: 1.411e+03, tolerance: 1.833e+01\n",
      "  model = cd_fast.enet_coordinate_descent(\n",
      "/opt/anaconda3/envs/data1030/lib/python3.12/site-packages/sklearn/linear_model/_coordinate_descent.py:697: ConvergenceWarning: Objective did not converge. You might want to increase the number of iterations, check the scale of the features or consider increasing regularisation. Duality gap: 1.041e+04, tolerance: 1.833e+01\n",
      "  model = cd_fast.enet_coordinate_descent(\n"
     ]
    },
    {
     "name": "stdout",
     "output_type": "stream",
     "text": [
      "Fitting 1 folds for each of 16 candidates, totalling 16 fits\n"
     ]
    },
    {
     "ename": "KeyboardInterrupt",
     "evalue": "",
     "output_type": "error",
     "traceback": [
      "\u001b[0;31m---------------------------------------------------------------------------\u001b[0m",
      "\u001b[0;31mKeyboardInterrupt\u001b[0m                         Traceback (most recent call last)",
      "Cell \u001b[0;32mIn[58], line 12\u001b[0m\n\u001b[1;32m      9\u001b[0m ML_algo \u001b[38;5;241m=\u001b[39m ElasticNet() \n\u001b[1;32m     11\u001b[0m \u001b[38;5;66;03m# Execute the pipeline\u001b[39;00m\n\u001b[0;32m---> 12\u001b[0m test_scores, best_models \u001b[38;5;241m=\u001b[39m \u001b[43mMLpipe_Strat_RMSE\u001b[49m\u001b[43m(\u001b[49m\n\u001b[1;32m     13\u001b[0m \u001b[43m    \u001b[49m\u001b[43mX\u001b[49m\u001b[43m,\u001b[49m\u001b[43m \u001b[49m\u001b[43my\u001b[49m\u001b[43m,\u001b[49m\u001b[43m \u001b[49m\u001b[43mtrain_size\u001b[49m\u001b[38;5;241;43m=\u001b[39;49m\u001b[38;5;241;43m0.6\u001b[39;49m\u001b[43m,\u001b[49m\u001b[43m \u001b[49m\u001b[43mval_size\u001b[49m\u001b[38;5;241;43m=\u001b[39;49m\u001b[38;5;241;43m0.2\u001b[39;49m\u001b[43m,\u001b[49m\u001b[43m \u001b[49m\u001b[43mtest_size\u001b[49m\u001b[38;5;241;43m=\u001b[39;49m\u001b[38;5;241;43m0.2\u001b[39;49m\u001b[43m,\u001b[49m\u001b[43m \u001b[49m\n\u001b[1;32m     14\u001b[0m \u001b[43m    \u001b[49m\u001b[43mpreprocessor\u001b[49m\u001b[38;5;241;43m=\u001b[39;49m\u001b[43mpreprocessor\u001b[49m\u001b[43m,\u001b[49m\u001b[43m \u001b[49m\u001b[43mML_algo\u001b[49m\u001b[38;5;241;43m=\u001b[39;49m\u001b[43mML_algo\u001b[49m\u001b[43m,\u001b[49m\u001b[43m \u001b[49m\u001b[43mparam_grid\u001b[49m\u001b[38;5;241;43m=\u001b[39;49m\u001b[43mparam_grid\u001b[49m\u001b[43m,\u001b[49m\u001b[43m \u001b[49m\u001b[43mrandom_states\u001b[49m\u001b[38;5;241;43m=\u001b[39;49m\u001b[38;5;241;43m5\u001b[39;49m\n\u001b[1;32m     15\u001b[0m \u001b[43m)\u001b[49m\n\u001b[1;32m     17\u001b[0m \u001b[38;5;28mprint\u001b[39m(\u001b[38;5;124m\"\u001b[39m\u001b[38;5;124mMean of test scores:\u001b[39m\u001b[38;5;124m\"\u001b[39m, np\u001b[38;5;241m.\u001b[39mmean(test_scores))\n\u001b[1;32m     18\u001b[0m \u001b[38;5;28mprint\u001b[39m(\u001b[38;5;124m\"\u001b[39m\u001b[38;5;124mStandard deviation of test scores:\u001b[39m\u001b[38;5;124m\"\u001b[39m, np\u001b[38;5;241m.\u001b[39mstd(test_scores))\n",
      "Cell \u001b[0;32mIn[57], line 32\u001b[0m, in \u001b[0;36mMLpipe_Strat_RMSE\u001b[0;34m(X, y, train_size, val_size, test_size, preprocessor, ML_algo, param_grid, random_states)\u001b[0m\n\u001b[1;32m     28\u001b[0m \u001b[38;5;66;03m# Exhaustive search over specified parameter values\u001b[39;00m\n\u001b[1;32m     29\u001b[0m grid \u001b[38;5;241m=\u001b[39m GridSearchCV(pipe, param_grid\u001b[38;5;241m=\u001b[39mparam_grid, scoring\u001b[38;5;241m=\u001b[39m\u001b[38;5;124m'\u001b[39m\u001b[38;5;124mneg_root_mean_squared_error\u001b[39m\u001b[38;5;124m'\u001b[39m, \n\u001b[1;32m     30\u001b[0m                     return_train_score\u001b[38;5;241m=\u001b[39m\u001b[38;5;28;01mTrue\u001b[39;00m, n_jobs\u001b[38;5;241m=\u001b[39m\u001b[38;5;241m-\u001b[39m\u001b[38;5;241m1\u001b[39m, cv\u001b[38;5;241m=\u001b[39m[(np\u001b[38;5;241m.\u001b[39marange(\u001b[38;5;28mlen\u001b[39m(X_train)), np\u001b[38;5;241m.\u001b[39marange(\u001b[38;5;28mlen\u001b[39m(X_val)))],\n\u001b[1;32m     31\u001b[0m                     verbose\u001b[38;5;241m=\u001b[39m\u001b[38;5;28;01mTrue\u001b[39;00m)\n\u001b[0;32m---> 32\u001b[0m \u001b[43mgrid\u001b[49m\u001b[38;5;241;43m.\u001b[39;49m\u001b[43mfit\u001b[49m\u001b[43m(\u001b[49m\u001b[43mX_train\u001b[49m\u001b[43m,\u001b[49m\u001b[43m \u001b[49m\u001b[43my_train\u001b[49m\u001b[43m)\u001b[49m\n\u001b[1;32m     34\u001b[0m \u001b[38;5;66;03m# access results and save them into a data frame\u001b[39;00m\n\u001b[1;32m     35\u001b[0m results \u001b[38;5;241m=\u001b[39m pd\u001b[38;5;241m.\u001b[39mDataFrame(grid\u001b[38;5;241m.\u001b[39mcv_results_)\n",
      "File \u001b[0;32m/opt/anaconda3/envs/data1030/lib/python3.12/site-packages/sklearn/base.py:1473\u001b[0m, in \u001b[0;36m_fit_context.<locals>.decorator.<locals>.wrapper\u001b[0;34m(estimator, *args, **kwargs)\u001b[0m\n\u001b[1;32m   1466\u001b[0m     estimator\u001b[38;5;241m.\u001b[39m_validate_params()\n\u001b[1;32m   1468\u001b[0m \u001b[38;5;28;01mwith\u001b[39;00m config_context(\n\u001b[1;32m   1469\u001b[0m     skip_parameter_validation\u001b[38;5;241m=\u001b[39m(\n\u001b[1;32m   1470\u001b[0m         prefer_skip_nested_validation \u001b[38;5;129;01mor\u001b[39;00m global_skip_validation\n\u001b[1;32m   1471\u001b[0m     )\n\u001b[1;32m   1472\u001b[0m ):\n\u001b[0;32m-> 1473\u001b[0m     \u001b[38;5;28;01mreturn\u001b[39;00m \u001b[43mfit_method\u001b[49m\u001b[43m(\u001b[49m\u001b[43mestimator\u001b[49m\u001b[43m,\u001b[49m\u001b[43m \u001b[49m\u001b[38;5;241;43m*\u001b[39;49m\u001b[43margs\u001b[49m\u001b[43m,\u001b[49m\u001b[43m \u001b[49m\u001b[38;5;241;43m*\u001b[39;49m\u001b[38;5;241;43m*\u001b[39;49m\u001b[43mkwargs\u001b[49m\u001b[43m)\u001b[49m\n",
      "File \u001b[0;32m/opt/anaconda3/envs/data1030/lib/python3.12/site-packages/sklearn/model_selection/_search.py:1018\u001b[0m, in \u001b[0;36mBaseSearchCV.fit\u001b[0;34m(self, X, y, **params)\u001b[0m\n\u001b[1;32m   1012\u001b[0m     results \u001b[38;5;241m=\u001b[39m \u001b[38;5;28mself\u001b[39m\u001b[38;5;241m.\u001b[39m_format_results(\n\u001b[1;32m   1013\u001b[0m         all_candidate_params, n_splits, all_out, all_more_results\n\u001b[1;32m   1014\u001b[0m     )\n\u001b[1;32m   1016\u001b[0m     \u001b[38;5;28;01mreturn\u001b[39;00m results\n\u001b[0;32m-> 1018\u001b[0m \u001b[38;5;28;43mself\u001b[39;49m\u001b[38;5;241;43m.\u001b[39;49m\u001b[43m_run_search\u001b[49m\u001b[43m(\u001b[49m\u001b[43mevaluate_candidates\u001b[49m\u001b[43m)\u001b[49m\n\u001b[1;32m   1020\u001b[0m \u001b[38;5;66;03m# multimetric is determined here because in the case of a callable\u001b[39;00m\n\u001b[1;32m   1021\u001b[0m \u001b[38;5;66;03m# self.scoring the return type is only known after calling\u001b[39;00m\n\u001b[1;32m   1022\u001b[0m first_test_score \u001b[38;5;241m=\u001b[39m all_out[\u001b[38;5;241m0\u001b[39m][\u001b[38;5;124m\"\u001b[39m\u001b[38;5;124mtest_scores\u001b[39m\u001b[38;5;124m\"\u001b[39m]\n",
      "File \u001b[0;32m/opt/anaconda3/envs/data1030/lib/python3.12/site-packages/sklearn/model_selection/_search.py:1572\u001b[0m, in \u001b[0;36mGridSearchCV._run_search\u001b[0;34m(self, evaluate_candidates)\u001b[0m\n\u001b[1;32m   1570\u001b[0m \u001b[38;5;28;01mdef\u001b[39;00m \u001b[38;5;21m_run_search\u001b[39m(\u001b[38;5;28mself\u001b[39m, evaluate_candidates):\n\u001b[1;32m   1571\u001b[0m \u001b[38;5;250m    \u001b[39m\u001b[38;5;124;03m\"\"\"Search all candidates in param_grid\"\"\"\u001b[39;00m\n\u001b[0;32m-> 1572\u001b[0m     \u001b[43mevaluate_candidates\u001b[49m\u001b[43m(\u001b[49m\u001b[43mParameterGrid\u001b[49m\u001b[43m(\u001b[49m\u001b[38;5;28;43mself\u001b[39;49m\u001b[38;5;241;43m.\u001b[39;49m\u001b[43mparam_grid\u001b[49m\u001b[43m)\u001b[49m\u001b[43m)\u001b[49m\n",
      "File \u001b[0;32m/opt/anaconda3/envs/data1030/lib/python3.12/site-packages/sklearn/model_selection/_search.py:964\u001b[0m, in \u001b[0;36mBaseSearchCV.fit.<locals>.evaluate_candidates\u001b[0;34m(candidate_params, cv, more_results)\u001b[0m\n\u001b[1;32m    956\u001b[0m \u001b[38;5;28;01mif\u001b[39;00m \u001b[38;5;28mself\u001b[39m\u001b[38;5;241m.\u001b[39mverbose \u001b[38;5;241m>\u001b[39m \u001b[38;5;241m0\u001b[39m:\n\u001b[1;32m    957\u001b[0m     \u001b[38;5;28mprint\u001b[39m(\n\u001b[1;32m    958\u001b[0m         \u001b[38;5;124m\"\u001b[39m\u001b[38;5;124mFitting \u001b[39m\u001b[38;5;132;01m{0}\u001b[39;00m\u001b[38;5;124m folds for each of \u001b[39m\u001b[38;5;132;01m{1}\u001b[39;00m\u001b[38;5;124m candidates,\u001b[39m\u001b[38;5;124m\"\u001b[39m\n\u001b[1;32m    959\u001b[0m         \u001b[38;5;124m\"\u001b[39m\u001b[38;5;124m totalling \u001b[39m\u001b[38;5;132;01m{2}\u001b[39;00m\u001b[38;5;124m fits\u001b[39m\u001b[38;5;124m\"\u001b[39m\u001b[38;5;241m.\u001b[39mformat(\n\u001b[1;32m    960\u001b[0m             n_splits, n_candidates, n_candidates \u001b[38;5;241m*\u001b[39m n_splits\n\u001b[1;32m    961\u001b[0m         )\n\u001b[1;32m    962\u001b[0m     )\n\u001b[0;32m--> 964\u001b[0m out \u001b[38;5;241m=\u001b[39m \u001b[43mparallel\u001b[49m\u001b[43m(\u001b[49m\n\u001b[1;32m    965\u001b[0m \u001b[43m    \u001b[49m\u001b[43mdelayed\u001b[49m\u001b[43m(\u001b[49m\u001b[43m_fit_and_score\u001b[49m\u001b[43m)\u001b[49m\u001b[43m(\u001b[49m\n\u001b[1;32m    966\u001b[0m \u001b[43m        \u001b[49m\u001b[43mclone\u001b[49m\u001b[43m(\u001b[49m\u001b[43mbase_estimator\u001b[49m\u001b[43m)\u001b[49m\u001b[43m,\u001b[49m\n\u001b[1;32m    967\u001b[0m \u001b[43m        \u001b[49m\u001b[43mX\u001b[49m\u001b[43m,\u001b[49m\n\u001b[1;32m    968\u001b[0m \u001b[43m        \u001b[49m\u001b[43my\u001b[49m\u001b[43m,\u001b[49m\n\u001b[1;32m    969\u001b[0m \u001b[43m        \u001b[49m\u001b[43mtrain\u001b[49m\u001b[38;5;241;43m=\u001b[39;49m\u001b[43mtrain\u001b[49m\u001b[43m,\u001b[49m\n\u001b[1;32m    970\u001b[0m \u001b[43m        \u001b[49m\u001b[43mtest\u001b[49m\u001b[38;5;241;43m=\u001b[39;49m\u001b[43mtest\u001b[49m\u001b[43m,\u001b[49m\n\u001b[1;32m    971\u001b[0m \u001b[43m        \u001b[49m\u001b[43mparameters\u001b[49m\u001b[38;5;241;43m=\u001b[39;49m\u001b[43mparameters\u001b[49m\u001b[43m,\u001b[49m\n\u001b[1;32m    972\u001b[0m \u001b[43m        \u001b[49m\u001b[43msplit_progress\u001b[49m\u001b[38;5;241;43m=\u001b[39;49m\u001b[43m(\u001b[49m\u001b[43msplit_idx\u001b[49m\u001b[43m,\u001b[49m\u001b[43m \u001b[49m\u001b[43mn_splits\u001b[49m\u001b[43m)\u001b[49m\u001b[43m,\u001b[49m\n\u001b[1;32m    973\u001b[0m \u001b[43m        \u001b[49m\u001b[43mcandidate_progress\u001b[49m\u001b[38;5;241;43m=\u001b[39;49m\u001b[43m(\u001b[49m\u001b[43mcand_idx\u001b[49m\u001b[43m,\u001b[49m\u001b[43m \u001b[49m\u001b[43mn_candidates\u001b[49m\u001b[43m)\u001b[49m\u001b[43m,\u001b[49m\n\u001b[1;32m    974\u001b[0m \u001b[43m        \u001b[49m\u001b[38;5;241;43m*\u001b[39;49m\u001b[38;5;241;43m*\u001b[39;49m\u001b[43mfit_and_score_kwargs\u001b[49m\u001b[43m,\u001b[49m\n\u001b[1;32m    975\u001b[0m \u001b[43m    \u001b[49m\u001b[43m)\u001b[49m\n\u001b[1;32m    976\u001b[0m \u001b[43m    \u001b[49m\u001b[38;5;28;43;01mfor\u001b[39;49;00m\u001b[43m \u001b[49m\u001b[43m(\u001b[49m\u001b[43mcand_idx\u001b[49m\u001b[43m,\u001b[49m\u001b[43m \u001b[49m\u001b[43mparameters\u001b[49m\u001b[43m)\u001b[49m\u001b[43m,\u001b[49m\u001b[43m \u001b[49m\u001b[43m(\u001b[49m\u001b[43msplit_idx\u001b[49m\u001b[43m,\u001b[49m\u001b[43m \u001b[49m\u001b[43m(\u001b[49m\u001b[43mtrain\u001b[49m\u001b[43m,\u001b[49m\u001b[43m \u001b[49m\u001b[43mtest\u001b[49m\u001b[43m)\u001b[49m\u001b[43m)\u001b[49m\u001b[43m \u001b[49m\u001b[38;5;129;43;01min\u001b[39;49;00m\u001b[43m \u001b[49m\u001b[43mproduct\u001b[49m\u001b[43m(\u001b[49m\n\u001b[1;32m    977\u001b[0m \u001b[43m        \u001b[49m\u001b[38;5;28;43menumerate\u001b[39;49m\u001b[43m(\u001b[49m\u001b[43mcandidate_params\u001b[49m\u001b[43m)\u001b[49m\u001b[43m,\u001b[49m\n\u001b[1;32m    978\u001b[0m \u001b[43m        \u001b[49m\u001b[38;5;28;43menumerate\u001b[39;49m\u001b[43m(\u001b[49m\u001b[43mcv\u001b[49m\u001b[38;5;241;43m.\u001b[39;49m\u001b[43msplit\u001b[49m\u001b[43m(\u001b[49m\u001b[43mX\u001b[49m\u001b[43m,\u001b[49m\u001b[43m \u001b[49m\u001b[43my\u001b[49m\u001b[43m,\u001b[49m\u001b[43m \u001b[49m\u001b[38;5;241;43m*\u001b[39;49m\u001b[38;5;241;43m*\u001b[39;49m\u001b[43mrouted_params\u001b[49m\u001b[38;5;241;43m.\u001b[39;49m\u001b[43msplitter\u001b[49m\u001b[38;5;241;43m.\u001b[39;49m\u001b[43msplit\u001b[49m\u001b[43m)\u001b[49m\u001b[43m)\u001b[49m\u001b[43m,\u001b[49m\n\u001b[1;32m    979\u001b[0m \u001b[43m    \u001b[49m\u001b[43m)\u001b[49m\n\u001b[1;32m    980\u001b[0m \u001b[43m\u001b[49m\u001b[43m)\u001b[49m\n\u001b[1;32m    982\u001b[0m \u001b[38;5;28;01mif\u001b[39;00m \u001b[38;5;28mlen\u001b[39m(out) \u001b[38;5;241m<\u001b[39m \u001b[38;5;241m1\u001b[39m:\n\u001b[1;32m    983\u001b[0m     \u001b[38;5;28;01mraise\u001b[39;00m \u001b[38;5;167;01mValueError\u001b[39;00m(\n\u001b[1;32m    984\u001b[0m         \u001b[38;5;124m\"\u001b[39m\u001b[38;5;124mNo fits were performed. \u001b[39m\u001b[38;5;124m\"\u001b[39m\n\u001b[1;32m    985\u001b[0m         \u001b[38;5;124m\"\u001b[39m\u001b[38;5;124mWas the CV iterator empty? \u001b[39m\u001b[38;5;124m\"\u001b[39m\n\u001b[1;32m    986\u001b[0m         \u001b[38;5;124m\"\u001b[39m\u001b[38;5;124mWere there no candidates?\u001b[39m\u001b[38;5;124m\"\u001b[39m\n\u001b[1;32m    987\u001b[0m     )\n",
      "File \u001b[0;32m/opt/anaconda3/envs/data1030/lib/python3.12/site-packages/sklearn/utils/parallel.py:74\u001b[0m, in \u001b[0;36mParallel.__call__\u001b[0;34m(self, iterable)\u001b[0m\n\u001b[1;32m     69\u001b[0m config \u001b[38;5;241m=\u001b[39m get_config()\n\u001b[1;32m     70\u001b[0m iterable_with_config \u001b[38;5;241m=\u001b[39m (\n\u001b[1;32m     71\u001b[0m     (_with_config(delayed_func, config), args, kwargs)\n\u001b[1;32m     72\u001b[0m     \u001b[38;5;28;01mfor\u001b[39;00m delayed_func, args, kwargs \u001b[38;5;129;01min\u001b[39;00m iterable\n\u001b[1;32m     73\u001b[0m )\n\u001b[0;32m---> 74\u001b[0m \u001b[38;5;28;01mreturn\u001b[39;00m \u001b[38;5;28;43msuper\u001b[39;49m\u001b[43m(\u001b[49m\u001b[43m)\u001b[49m\u001b[38;5;241;43m.\u001b[39;49m\u001b[38;5;21;43m__call__\u001b[39;49m\u001b[43m(\u001b[49m\u001b[43miterable_with_config\u001b[49m\u001b[43m)\u001b[49m\n",
      "File \u001b[0;32m/opt/anaconda3/envs/data1030/lib/python3.12/site-packages/joblib/parallel.py:2007\u001b[0m, in \u001b[0;36mParallel.__call__\u001b[0;34m(self, iterable)\u001b[0m\n\u001b[1;32m   2001\u001b[0m \u001b[38;5;66;03m# The first item from the output is blank, but it makes the interpreter\u001b[39;00m\n\u001b[1;32m   2002\u001b[0m \u001b[38;5;66;03m# progress until it enters the Try/Except block of the generator and\u001b[39;00m\n\u001b[1;32m   2003\u001b[0m \u001b[38;5;66;03m# reaches the first `yield` statement. This starts the asynchronous\u001b[39;00m\n\u001b[1;32m   2004\u001b[0m \u001b[38;5;66;03m# dispatch of the tasks to the workers.\u001b[39;00m\n\u001b[1;32m   2005\u001b[0m \u001b[38;5;28mnext\u001b[39m(output)\n\u001b[0;32m-> 2007\u001b[0m \u001b[38;5;28;01mreturn\u001b[39;00m output \u001b[38;5;28;01mif\u001b[39;00m \u001b[38;5;28mself\u001b[39m\u001b[38;5;241m.\u001b[39mreturn_generator \u001b[38;5;28;01melse\u001b[39;00m \u001b[38;5;28;43mlist\u001b[39;49m\u001b[43m(\u001b[49m\u001b[43moutput\u001b[49m\u001b[43m)\u001b[49m\n",
      "File \u001b[0;32m/opt/anaconda3/envs/data1030/lib/python3.12/site-packages/joblib/parallel.py:1650\u001b[0m, in \u001b[0;36mParallel._get_outputs\u001b[0;34m(self, iterator, pre_dispatch)\u001b[0m\n\u001b[1;32m   1647\u001b[0m     \u001b[38;5;28;01myield\u001b[39;00m\n\u001b[1;32m   1649\u001b[0m     \u001b[38;5;28;01mwith\u001b[39;00m \u001b[38;5;28mself\u001b[39m\u001b[38;5;241m.\u001b[39m_backend\u001b[38;5;241m.\u001b[39mretrieval_context():\n\u001b[0;32m-> 1650\u001b[0m         \u001b[38;5;28;01myield from\u001b[39;00m \u001b[38;5;28mself\u001b[39m\u001b[38;5;241m.\u001b[39m_retrieve()\n\u001b[1;32m   1652\u001b[0m \u001b[38;5;28;01mexcept\u001b[39;00m \u001b[38;5;167;01mGeneratorExit\u001b[39;00m:\n\u001b[1;32m   1653\u001b[0m     \u001b[38;5;66;03m# The generator has been garbage collected before being fully\u001b[39;00m\n\u001b[1;32m   1654\u001b[0m     \u001b[38;5;66;03m# consumed. This aborts the remaining tasks if possible and warn\u001b[39;00m\n\u001b[1;32m   1655\u001b[0m     \u001b[38;5;66;03m# the user if necessary.\u001b[39;00m\n\u001b[1;32m   1656\u001b[0m     \u001b[38;5;28mself\u001b[39m\u001b[38;5;241m.\u001b[39m_exception \u001b[38;5;241m=\u001b[39m \u001b[38;5;28;01mTrue\u001b[39;00m\n",
      "File \u001b[0;32m/opt/anaconda3/envs/data1030/lib/python3.12/site-packages/joblib/parallel.py:1762\u001b[0m, in \u001b[0;36mParallel._retrieve\u001b[0;34m(self)\u001b[0m\n\u001b[1;32m   1757\u001b[0m \u001b[38;5;66;03m# If the next job is not ready for retrieval yet, we just wait for\u001b[39;00m\n\u001b[1;32m   1758\u001b[0m \u001b[38;5;66;03m# async callbacks to progress.\u001b[39;00m\n\u001b[1;32m   1759\u001b[0m \u001b[38;5;28;01mif\u001b[39;00m ((\u001b[38;5;28mlen\u001b[39m(\u001b[38;5;28mself\u001b[39m\u001b[38;5;241m.\u001b[39m_jobs) \u001b[38;5;241m==\u001b[39m \u001b[38;5;241m0\u001b[39m) \u001b[38;5;129;01mor\u001b[39;00m\n\u001b[1;32m   1760\u001b[0m     (\u001b[38;5;28mself\u001b[39m\u001b[38;5;241m.\u001b[39m_jobs[\u001b[38;5;241m0\u001b[39m]\u001b[38;5;241m.\u001b[39mget_status(\n\u001b[1;32m   1761\u001b[0m         timeout\u001b[38;5;241m=\u001b[39m\u001b[38;5;28mself\u001b[39m\u001b[38;5;241m.\u001b[39mtimeout) \u001b[38;5;241m==\u001b[39m TASK_PENDING)):\n\u001b[0;32m-> 1762\u001b[0m     \u001b[43mtime\u001b[49m\u001b[38;5;241;43m.\u001b[39;49m\u001b[43msleep\u001b[49m\u001b[43m(\u001b[49m\u001b[38;5;241;43m0.01\u001b[39;49m\u001b[43m)\u001b[49m\n\u001b[1;32m   1763\u001b[0m     \u001b[38;5;28;01mcontinue\u001b[39;00m\n\u001b[1;32m   1765\u001b[0m \u001b[38;5;66;03m# We need to be careful: the job list can be filling up as\u001b[39;00m\n\u001b[1;32m   1766\u001b[0m \u001b[38;5;66;03m# we empty it and Python list are not thread-safe by\u001b[39;00m\n\u001b[1;32m   1767\u001b[0m \u001b[38;5;66;03m# default hence the use of the lock\u001b[39;00m\n",
      "\u001b[0;31mKeyboardInterrupt\u001b[0m: "
     ]
    }
   ],
   "source": [
    "# Elastic Net \n",
    "\n",
    "# hyperparameters to tune\n",
    "param_grid = {\n",
    "    'elasticnet__alpha': [1e-3, 0.1, 1, 10], \n",
    "    'elasticnet__l1_ratio': [0.01, 0.1, 0.5, 0.99]}\n",
    "\n",
    "# the model\n",
    "ML_algo = ElasticNet() \n",
    "\n",
    "# Execute the pipeline\n",
    "test_scores, best_models = MLpipe_Strat_RMSE(\n",
    "    X, y, train_size=0.6, val_size=0.2, test_size=0.2, \n",
    "    preprocessor=preprocessor, ML_algo=ML_algo, param_grid=param_grid, random_states=5\n",
    ")\n",
    "\n",
    "print(\"Mean of test scores:\", np.mean(test_scores))\n",
    "print(\"Standard deviation of test scores:\", np.std(test_scores))"
   ]
  },
  {
   "cell_type": "code",
   "execution_count": 54,
   "id": "14e035ad-41c9-456d-9a14-90085c645832",
   "metadata": {},
   "outputs": [
    {
     "name": "stdout",
     "output_type": "stream",
     "text": [
      "Fitting 1 folds for each of 20 candidates, totalling 20 fits\n",
      "Fitting 1 folds for each of 20 candidates, totalling 20 fits\n",
      "Fitting 1 folds for each of 20 candidates, totalling 20 fits\n",
      "Fitting 1 folds for each of 20 candidates, totalling 20 fits\n",
      "Fitting 1 folds for each of 20 candidates, totalling 20 fits\n",
      "Mean of test scores: 3.7004544459545285\n",
      "Standard deviation of test scores: 1.8571062177088626\n"
     ]
    }
   ],
   "source": [
    "# RANDOM FOREST\n",
    "\n",
    "from sklearn.ensemble import RandomForestRegressor\n",
    "\n",
    "# parameter grid\n",
    "param_grid = {\n",
    "    'randomforestregressor__n_estimators': [1, 3, 10, 30],\n",
    "    'randomforestregressor__max_depth': [1, 2, 3, 10, 30]} \n",
    "\n",
    "# model\n",
    "ML_algo = RandomForestRegressor()\n",
    "\n",
    "# Execute the pipeline\n",
    "test_scores, best_models = MLpipe_Strat_RMSE(\n",
    "    X, y, train_size=0.6, val_size=0.2, test_size=0.2, \n",
    "    preprocessor=preprocessor, ML_algo=ML_algo, param_grid=param_grid, random_states=5\n",
    ")\n",
    "\n",
    "print(\"Mean of test scores:\", np.mean(test_scores))\n",
    "print(\"Standard deviation of test scores:\", np.std(test_scores))"
   ]
  },
  {
   "cell_type": "code",
   "execution_count": 53,
   "id": "1bedbdd6-76bb-4007-b1a9-8177feb663eb",
   "metadata": {},
   "outputs": [
    {
     "name": "stdout",
     "output_type": "stream",
     "text": [
      "Fitting 1 folds for each of 25 candidates, totalling 25 fits\n",
      "Fitting 1 folds for each of 25 candidates, totalling 25 fits\n",
      "Fitting 1 folds for each of 25 candidates, totalling 25 fits\n",
      "Fitting 1 folds for each of 25 candidates, totalling 25 fits\n",
      "Fitting 1 folds for each of 25 candidates, totalling 25 fits\n",
      "Mean of test scores: 4.719684132779699\n",
      "Standard deviation of test scores: 1.432976861294911\n"
     ]
    }
   ],
   "source": [
    "# SUPPORT VECTOR MACHINE\n",
    "\n",
    "# ADD KERNEL AS A HYPERPARAMETER\n",
    "\n",
    "from sklearn.svm import SVR\n",
    "\n",
    "# parameter grid\n",
    "param_grid = {\n",
    "    'svr__gamma': [1e-3, 1e-1, 1e1, 1e3, 1e5],\n",
    "    'svr__C': [1e-2, 1e-1, 1e0, 1e1, 1e2]} \n",
    "\n",
    "# model\n",
    "ML_algo = SVR() # no random state\n",
    "\n",
    "# Execute the pipeline\n",
    "test_scores, best_models = MLpipe_Strat_RMSE(\n",
    "    X, y, train_size=0.6, val_size=0.2, test_size=0.2, \n",
    "    preprocessor=preprocessor, ML_algo=ML_algo, param_grid=param_grid, random_states=5\n",
    ")\n",
    "print(\"Mean of test scores:\", np.mean(test_scores))\n",
    "print(\"Standard deviation of test scores:\", np.std(test_scores))"
   ]
  },
  {
   "cell_type": "code",
   "execution_count": 52,
   "id": "b2b8196c-e511-47a0-87f5-ef8125540a18",
   "metadata": {},
   "outputs": [
    {
     "name": "stdout",
     "output_type": "stream",
     "text": [
      "Fitting 1 folds for each of 8 candidates, totalling 8 fits\n",
      "Fitting 1 folds for each of 8 candidates, totalling 8 fits\n",
      "Fitting 1 folds for each of 8 candidates, totalling 8 fits\n",
      "Fitting 1 folds for each of 8 candidates, totalling 8 fits\n",
      "Fitting 1 folds for each of 8 candidates, totalling 8 fits\n",
      "Mean of test scores: 3.2886321978432127\n",
      "Standard deviation of test scores: 0.09499530125248835\n"
     ]
    }
   ],
   "source": [
    "# NEAREST NEIGHBOR\n",
    "from sklearn.neighbors import KNeighborsRegressor\n",
    "\n",
    "# parameter grid\n",
    "param_grid = {\n",
    "    'kneighborsregressor__n_neighbors': [1, 3, 10, 30],\n",
    "    'kneighborsregressor__weights': [\"distance\", \"uniform\"]} \n",
    "\n",
    "# model\n",
    "ML_algo = KNeighborsRegressor() # no random state\n",
    "\n",
    "# Execute the pipeline\n",
    "test_scores, best_models = MLpipe_Strat_RMSE(\n",
    "    X, y, train_size=0.6, val_size=0.2, test_size=0.2, \n",
    "    preprocessor=preprocessor, ML_algo=ML_algo, param_grid=param_grid, random_states=5\n",
    ")\n",
    "print(\"Mean of test scores:\", np.mean(test_scores))\n",
    "print(\"Standard deviation of test scores:\", np.std(test_scores))"
   ]
  }
 ],
 "metadata": {
  "kernelspec": {
   "display_name": "Python 3 (ipykernel)",
   "language": "python",
   "name": "python3"
  },
  "language_info": {
   "codemirror_mode": {
    "name": "ipython",
    "version": 3
   },
   "file_extension": ".py",
   "mimetype": "text/x-python",
   "name": "python",
   "nbconvert_exporter": "python",
   "pygments_lexer": "ipython3",
   "version": "3.12.5"
  }
 },
 "nbformat": 4,
 "nbformat_minor": 5
}
